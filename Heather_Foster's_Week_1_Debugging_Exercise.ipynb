{
  "nbformat": 4,
  "nbformat_minor": 0,
  "metadata": {
    "colab": {
      "provenance": [],
      "include_colab_link": true
    },
    "kernelspec": {
      "name": "python3",
      "display_name": "Python 3"
    },
    "language_info": {
      "name": "python"
    }
  },
  "cells": [
    {
      "cell_type": "markdown",
      "metadata": {
        "id": "view-in-github",
        "colab_type": "text"
      },
      "source": [
        "<a href=\"https://colab.research.google.com/github/HeatherAnnFoster/Debugging-Practice-Exercise/blob/main/Heather_Foster's_Week_1_Debugging_Exercise.ipynb\" target=\"_parent\"><img src=\"https://colab.research.google.com/assets/colab-badge.svg\" alt=\"Open In Colab\"/></a>"
      ]
    },
    {
      "cell_type": "markdown",
      "source": [
        "# 👩‍🏫 Fixing common errors 📈\n",
        "\n",
        "In this assignment you will be debugging errors.\n",
        "\n",
        "To work in this notebook, first make a copy of this notebook by clicking on \"File\" and then clicking on \"Save a Copy in Drive\""
      ],
      "metadata": {
        "id": "jOePcaF_dlTB"
      }
    },
    {
      "cell_type": "markdown",
      "source": [
        "# Types of Errors\n",
        "## Syntax Errors:\n",
        "Syntax errors are the most basic type of error. They arise when the Python parser is unable to understand a line of code. Syntax errors are almost always fatal, i.e. there is almost never a way to successfully execute a piece of code containing syntax errors.\n",
        "\n",
        "## Logical Errors:\n",
        "These are the most difficult type of error to find, because they will give unpredictable results, but may or may not actually crash your program. A lot of different things can happen if you have a logic error."
      ],
      "metadata": {
        "id": "4qCHuR323Ylj"
      }
    },
    {
      "cell_type": "markdown",
      "source": [
        "# 💪 Your Job: Diagnose and debug the following code samples.\n"
      ],
      "metadata": {
        "id": "Lk-UnXZ2oT9G"
      }
    },
    {
      "cell_type": "markdown",
      "source": [
        "# Task 1"
      ],
      "metadata": {
        "id": "MX40r23hGBdj"
      }
    },
    {
      "cell_type": "markdown",
      "source": [
        "# The word **employee** in the last line was not quoted.  It needs to be quotes in order to have the word **employee** printed."
      ],
      "metadata": {
        "id": "xjg_9IifFozk"
      }
    },
    {
      "cell_type": "code",
      "source": [
        "# Find and correct the error:\n",
        "Employee = 'Ingrid'\n",
        "print(employee)"
      ],
      "metadata": {
        "id": "fG3g5qVf8k7S"
      },
      "execution_count": null,
      "outputs": []
    },
    {
      "cell_type": "code",
      "source": [
        "#Fixed code\n",
        "Employee = 'Ingrid'\n",
        "print('employee')"
      ],
      "metadata": {
        "colab": {
          "base_uri": "https://localhost:8080/"
        },
        "id": "r2dUanKgGBdP",
        "outputId": "7ec7f751-bc11-458b-bb89-6b54abd28d24"
      },
      "execution_count": null,
      "outputs": [
        {
          "output_type": "stream",
          "name": "stdout",
          "text": [
            "employee\n"
          ]
        }
      ]
    },
    {
      "cell_type": "markdown",
      "source": [
        "# If the employee's name is to be printed, the code should run like this.#"
      ],
      "metadata": {
        "id": "YNzVvJRnGZKC"
      }
    },
    {
      "cell_type": "code",
      "source": [
        "#Printing the employee's name\n",
        "Employee = 'Ingrid'\n",
        "print('Ingrid')"
      ],
      "metadata": {
        "colab": {
          "base_uri": "https://localhost:8080/"
        },
        "id": "9RIzCTMmGfUA",
        "outputId": "bd8aec78-6014-467b-9b5d-bc17704d82bb"
      },
      "execution_count": null,
      "outputs": [
        {
          "output_type": "stream",
          "name": "stdout",
          "text": [
            "Ingrid\n"
          ]
        }
      ]
    },
    {
      "cell_type": "markdown",
      "source": [
        "# Task 2"
      ],
      "metadata": {
        "id": "5xytHNuDGNEW"
      }
    },
    {
      "cell_type": "markdown",
      "source": [
        "# This code is missing the square bracket on the end of the code."
      ],
      "metadata": {
        "id": "3wWwrI2gHX30"
      }
    },
    {
      "cell_type": "code",
      "source": [
        "# Find and correct the error:\n",
        "candy_list = ['Snickers', 'Milky Way', 'Skittles'\n"
      ],
      "metadata": {
        "id": "l--0V67981oo"
      },
      "execution_count": null,
      "outputs": []
    },
    {
      "cell_type": "code",
      "source": [
        "#Fixed Code\n",
        "\n",
        "candy_list = ['Snickers', 'Milky Way', 'Skittles']"
      ],
      "metadata": {
        "id": "jTwBFLPoHfAa"
      },
      "execution_count": null,
      "outputs": []
    },
    {
      "cell_type": "markdown",
      "source": [
        "# Task 3"
      ],
      "metadata": {
        "id": "ScIpR6v9GO-0"
      }
    },
    {
      "cell_type": "markdown",
      "source": [
        "# In the code below, the 'print' needs to be indented."
      ],
      "metadata": {
        "id": "tumxSF48H1oB"
      }
    },
    {
      "cell_type": "code",
      "source": [
        "# Find and correct the error:\n",
        "a = 300\n",
        "if a > 100 & a < 1000:\n",
        "print(f'{a} is greater than 100 and less than 1000.')"
      ],
      "metadata": {
        "id": "6zu-5_s89S_i"
      },
      "execution_count": null,
      "outputs": []
    },
    {
      "cell_type": "code",
      "source": [
        "#Fixed code\n",
        "a = 300\n",
        "if a > 100 & a < 1000:\n",
        "  print (f'(a) is greater than 100 and less than 1000.')"
      ],
      "metadata": {
        "id": "VhSA63Yz-x9Q",
        "colab": {
          "base_uri": "https://localhost:8080/"
        },
        "outputId": "a8bcf7ed-e249-453a-f5dd-186f330e8665"
      },
      "execution_count": null,
      "outputs": [
        {
          "output_type": "stream",
          "name": "stdout",
          "text": [
            "(a) is greater than 100 and less than 1000.\n"
          ]
        }
      ]
    },
    {
      "cell_type": "markdown",
      "source": [
        "# Task 4 Welcome Message\n",
        "\n",
        "- The following function takes a student name and id.\n",
        "- The function prints a message to welcome the student and show him/her his/her id.\n",
        "- The function is throwing an error! find out why this happened and solve this issue.\n",
        "- Fix this error by changing the function.\n"
      ],
      "metadata": {
        "id": "jdattlSuXJb9"
      }
    },
    {
      "cell_type": "markdown",
      "source": [
        "# The student ID number is a string.  Strings need to have quotation marks around them or they will throw an error."
      ],
      "metadata": {
        "id": "HUrWZcxLGC-H"
      }
    },
    {
      "cell_type": "code",
      "source": [
        "# Find and correct the error\n",
        "def Physics_Welcome_Message(name, id):\n",
        "  print(\"Hello \" + name + \"! Welcome to your Physics class. Your id is \" + id + \". We know you will rock.\")"
      ],
      "metadata": {
        "id": "AtNrOvEyIRlk"
      },
      "execution_count": null,
      "outputs": []
    },
    {
      "cell_type": "markdown",
      "source": [
        "## Task 4 Test Case"
      ],
      "metadata": {
        "id": "-gK1s1YOn_52"
      }
    },
    {
      "cell_type": "code",
      "source": [
        "# this test case fails\n",
        "Physics_Welcome_Message(\"Jack\", 2022075)"
      ],
      "metadata": {
        "id": "ebC4s55CxPlE",
        "colab": {
          "base_uri": "https://localhost:8080/",
          "height": 269
        },
        "outputId": "c9308517-40d6-48d2-ab96-4c213a0623be"
      },
      "execution_count": null,
      "outputs": [
        {
          "output_type": "error",
          "ename": "TypeError",
          "evalue": "ignored",
          "traceback": [
            "\u001b[0;31m---------------------------------------------------------------------------\u001b[0m",
            "\u001b[0;31mTypeError\u001b[0m                                 Traceback (most recent call last)",
            "\u001b[0;32m<ipython-input-23-af3d3f183faf>\u001b[0m in \u001b[0;36m<cell line: 2>\u001b[0;34m()\u001b[0m\n\u001b[1;32m      1\u001b[0m \u001b[0;31m# this test case fails\u001b[0m\u001b[0;34m\u001b[0m\u001b[0;34m\u001b[0m\u001b[0m\n\u001b[0;32m----> 2\u001b[0;31m \u001b[0mPhysics_Welcome_Message\u001b[0m\u001b[0;34m(\u001b[0m\u001b[0;34m\"Jack\"\u001b[0m\u001b[0;34m,\u001b[0m \u001b[0;36m2022075\u001b[0m\u001b[0;34m)\u001b[0m\u001b[0;34m\u001b[0m\u001b[0;34m\u001b[0m\u001b[0m\n\u001b[0m",
            "\u001b[0;32m<ipython-input-19-a4ffda186c29>\u001b[0m in \u001b[0;36mPhysics_Welcome_Message\u001b[0;34m(name, id)\u001b[0m\n\u001b[1;32m      1\u001b[0m \u001b[0;31m# Find and correct the error\u001b[0m\u001b[0;34m\u001b[0m\u001b[0;34m\u001b[0m\u001b[0m\n\u001b[1;32m      2\u001b[0m \u001b[0;32mdef\u001b[0m \u001b[0mPhysics_Welcome_Message\u001b[0m\u001b[0;34m(\u001b[0m\u001b[0mname\u001b[0m\u001b[0;34m,\u001b[0m \u001b[0mid\u001b[0m\u001b[0;34m)\u001b[0m\u001b[0;34m:\u001b[0m\u001b[0;34m\u001b[0m\u001b[0;34m\u001b[0m\u001b[0m\n\u001b[0;32m----> 3\u001b[0;31m   \u001b[0mprint\u001b[0m\u001b[0;34m(\u001b[0m\u001b[0;34m\"Hello \"\u001b[0m \u001b[0;34m+\u001b[0m \u001b[0mname\u001b[0m \u001b[0;34m+\u001b[0m \u001b[0;34m\"! Welcome to your Physics class. Your id is \"\u001b[0m \u001b[0;34m+\u001b[0m \u001b[0mid\u001b[0m \u001b[0;34m+\u001b[0m \u001b[0;34m\". We know you will rock.\"\u001b[0m\u001b[0;34m)\u001b[0m\u001b[0;34m\u001b[0m\u001b[0;34m\u001b[0m\u001b[0m\n\u001b[0m",
            "\u001b[0;31mTypeError\u001b[0m: can only concatenate str (not \"int\") to str"
          ]
        }
      ]
    },
    {
      "cell_type": "code",
      "source": [
        "#fixed code\n",
        "Physics_Welcome_Message(\"Jack\", \"2022075\")"
      ],
      "metadata": {
        "colab": {
          "base_uri": "https://localhost:8080/"
        },
        "id": "FBaag9wlK7UI",
        "outputId": "43f13046-78ed-443c-acb5-13165fc5625f"
      },
      "execution_count": null,
      "outputs": [
        {
          "output_type": "stream",
          "name": "stdout",
          "text": [
            "Hello Jack! Welcome to your Physics class. Your id is 2022075. We know you will rock.\n"
          ]
        }
      ]
    },
    {
      "cell_type": "markdown",
      "source": [
        "# Task 5\n",
        "- The following function calculates the area for a circle. It's not working!\n",
        "- Find out why and get the function working."
      ],
      "metadata": {
        "id": "9iwb402VEMXX"
      }
    },
    {
      "cell_type": "markdown",
      "source": [
        "# In this code, the 'C' in 'PiConstantNumber' was not capitalized in the second function.  Codes need to be exactly the same when being used in a function."
      ],
      "metadata": {
        "id": "C-PC4RhGOSME"
      }
    },
    {
      "cell_type": "code",
      "source": [
        "# Find and correct the error\n",
        "def circle_area(r):\n",
        "  PiConstantnumber = 3.1415926\n",
        "  area = r*r*Piconstantnumber\n",
        "  return area"
      ],
      "metadata": {
        "id": "xe4BxUoC2h6o"
      },
      "execution_count": null,
      "outputs": []
    },
    {
      "cell_type": "markdown",
      "source": [
        "## Task 5 Test Case"
      ],
      "metadata": {
        "id": "aSDrj74Qn-WG"
      }
    },
    {
      "cell_type": "code",
      "source": [
        "# This test case fails\n",
        "circle_area(6)"
      ],
      "metadata": {
        "id": "2v4Pro1520J0",
        "colab": {
          "base_uri": "https://localhost:8080/",
          "height": 287
        },
        "outputId": "396ba690-e14a-4e09-a73b-dc4303460f16"
      },
      "execution_count": null,
      "outputs": [
        {
          "output_type": "error",
          "ename": "NameError",
          "evalue": "ignored",
          "traceback": [
            "\u001b[0;31m---------------------------------------------------------------------------\u001b[0m",
            "\u001b[0;31mNameError\u001b[0m                                 Traceback (most recent call last)",
            "\u001b[0;32m<ipython-input-25-d2c6eb378a52>\u001b[0m in \u001b[0;36m<cell line: 2>\u001b[0;34m()\u001b[0m\n\u001b[1;32m      1\u001b[0m \u001b[0;31m# This test case fails\u001b[0m\u001b[0;34m\u001b[0m\u001b[0;34m\u001b[0m\u001b[0m\n\u001b[0;32m----> 2\u001b[0;31m \u001b[0mcircle_area\u001b[0m\u001b[0;34m(\u001b[0m\u001b[0;36m6\u001b[0m\u001b[0;34m)\u001b[0m\u001b[0;34m\u001b[0m\u001b[0;34m\u001b[0m\u001b[0m\n\u001b[0m",
            "\u001b[0;32m<ipython-input-24-d25a3a46b0a2>\u001b[0m in \u001b[0;36mcircle_area\u001b[0;34m(r)\u001b[0m\n\u001b[1;32m      2\u001b[0m \u001b[0;32mdef\u001b[0m \u001b[0mcircle_area\u001b[0m\u001b[0;34m(\u001b[0m\u001b[0mr\u001b[0m\u001b[0;34m)\u001b[0m\u001b[0;34m:\u001b[0m\u001b[0;34m\u001b[0m\u001b[0;34m\u001b[0m\u001b[0m\n\u001b[1;32m      3\u001b[0m   \u001b[0mPiConstantnumber\u001b[0m \u001b[0;34m=\u001b[0m \u001b[0;36m3.1415926\u001b[0m\u001b[0;34m\u001b[0m\u001b[0;34m\u001b[0m\u001b[0m\n\u001b[0;32m----> 4\u001b[0;31m   \u001b[0marea\u001b[0m \u001b[0;34m=\u001b[0m \u001b[0mr\u001b[0m\u001b[0;34m*\u001b[0m\u001b[0mr\u001b[0m\u001b[0;34m*\u001b[0m\u001b[0mPiconstantnumber\u001b[0m\u001b[0;34m\u001b[0m\u001b[0;34m\u001b[0m\u001b[0m\n\u001b[0m\u001b[1;32m      5\u001b[0m   \u001b[0;32mreturn\u001b[0m \u001b[0marea\u001b[0m\u001b[0;34m\u001b[0m\u001b[0;34m\u001b[0m\u001b[0m\n",
            "\u001b[0;31mNameError\u001b[0m: name 'Piconstantnumber' is not defined"
          ]
        }
      ]
    },
    {
      "cell_type": "code",
      "source": [
        "#Fixed Code\n",
        "def circle_area(r):\n",
        "  PiConstantnumber = 3.1415926\n",
        "  area = r*r*PiConstantnumber\n",
        "  return area\n",
        "circle_area(6)"
      ],
      "metadata": {
        "colab": {
          "base_uri": "https://localhost:8080/"
        },
        "id": "YXFTN5BrN5oh",
        "outputId": "e2331beb-3042-43c3-a8f7-73dd9fad5748"
      },
      "execution_count": null,
      "outputs": [
        {
          "output_type": "execute_result",
          "data": {
            "text/plain": [
              "113.0973336"
            ]
          },
          "metadata": {},
          "execution_count": 27
        }
      ]
    },
    {
      "cell_type": "markdown",
      "source": [
        "# Task 6\n",
        "## Managing time\n",
        "- You want to divide up your free time evenly among your friends each weekend. Your free time and the friends you are trying to spend time with varies each weekend. num_hours is the number of free hours you can dedicate to friends, and num_friends is the number of friends you want to schedule time with.\n",
        "- The following function takes two numbers and return how much time you should spend with each friend.\n",
        "\n",
        "\n",
        "- Run the following test cases and make sure your function covers ALL test cases:\n",
        "1.   friends_time(8 , 2)\n",
        "2.   friends_time(0 , 3)\n",
        "3.   friends_time(7 , 0)\n",
        "\n",
        "Hint: This gives the error when num_friends equals 0. Consider including an if/else statement where if num_friends is 0, the function prints a statement such as \"No friends available this weekend.\" rather than performing the calculation.\n"
      ],
      "metadata": {
        "id": "g3kvBoka6EGT"
      }
    },
    {
      "cell_type": "markdown",
      "source": [
        "# In this code, it needs an \"If/Then\" statement"
      ],
      "metadata": {
        "id": "_XTAeDddPOEy"
      }
    },
    {
      "cell_type": "code",
      "source": [
        "# Find and correct the error\n",
        "def friends_time(num_hours, num_friends):\n",
        "  print(f\"You should spend {round(num_hours/num_friends,2)} hours with each of your friends on the weekend.\")"
      ],
      "metadata": {
        "id": "7hs7fLs66mPJ"
      },
      "execution_count": null,
      "outputs": []
    },
    {
      "cell_type": "markdown",
      "source": [
        "## Task 6 Test Case"
      ],
      "metadata": {
        "id": "K-2yiBP0n7Rn"
      }
    },
    {
      "cell_type": "code",
      "source": [
        "# This test case fails\n",
        "friends_time(4 , 0)"
      ],
      "metadata": {
        "id": "8GWAzPf563gR",
        "colab": {
          "base_uri": "https://localhost:8080/",
          "height": 269
        },
        "outputId": "736851cd-7369-4623-bfb0-dff83e0239a5"
      },
      "execution_count": null,
      "outputs": [
        {
          "output_type": "error",
          "ename": "ZeroDivisionError",
          "evalue": "ignored",
          "traceback": [
            "\u001b[0;31m---------------------------------------------------------------------------\u001b[0m",
            "\u001b[0;31mZeroDivisionError\u001b[0m                         Traceback (most recent call last)",
            "\u001b[0;32m<ipython-input-29-cbb7a50f3b9f>\u001b[0m in \u001b[0;36m<cell line: 2>\u001b[0;34m()\u001b[0m\n\u001b[1;32m      1\u001b[0m \u001b[0;31m# This test case fails\u001b[0m\u001b[0;34m\u001b[0m\u001b[0;34m\u001b[0m\u001b[0m\n\u001b[0;32m----> 2\u001b[0;31m \u001b[0mfriends_time\u001b[0m\u001b[0;34m(\u001b[0m\u001b[0;36m4\u001b[0m \u001b[0;34m,\u001b[0m \u001b[0;36m0\u001b[0m\u001b[0;34m)\u001b[0m\u001b[0;34m\u001b[0m\u001b[0;34m\u001b[0m\u001b[0m\n\u001b[0m",
            "\u001b[0;32m<ipython-input-28-88e17f75e593>\u001b[0m in \u001b[0;36mfriends_time\u001b[0;34m(num_hours, num_friends)\u001b[0m\n\u001b[1;32m      1\u001b[0m \u001b[0;31m# Find and correct the error\u001b[0m\u001b[0;34m\u001b[0m\u001b[0;34m\u001b[0m\u001b[0m\n\u001b[1;32m      2\u001b[0m \u001b[0;32mdef\u001b[0m \u001b[0mfriends_time\u001b[0m\u001b[0;34m(\u001b[0m\u001b[0mnum_hours\u001b[0m\u001b[0;34m,\u001b[0m \u001b[0mnum_friends\u001b[0m\u001b[0;34m)\u001b[0m\u001b[0;34m:\u001b[0m\u001b[0;34m\u001b[0m\u001b[0;34m\u001b[0m\u001b[0m\n\u001b[0;32m----> 3\u001b[0;31m   \u001b[0mprint\u001b[0m\u001b[0;34m(\u001b[0m\u001b[0;34mf\"You should spend {round(num_hours/num_friends,2)} hours with each of your friends on the weekend.\"\u001b[0m\u001b[0;34m)\u001b[0m\u001b[0;34m\u001b[0m\u001b[0;34m\u001b[0m\u001b[0m\n\u001b[0m",
            "\u001b[0;31mZeroDivisionError\u001b[0m: division by zero"
          ]
        }
      ]
    },
    {
      "cell_type": "code",
      "source": [
        "#Fixed code\n",
        "def friends_time(num_hours, num_friends):\n",
        "  if num_friends > 0:\n",
        "    print(f\"You should spend {round(num_hours/num_friends,2)} hours with each of your friends on the weekend.\")\n",
        "  else:\n",
        "    print(\"No friends are available this weekend.\")\n",
        "friends_time(4, 0)"
      ],
      "metadata": {
        "colab": {
          "base_uri": "https://localhost:8080/"
        },
        "id": "bl-9ByyMPyu4",
        "outputId": "1ed8b0aa-5709-4a4d-d463-77a87ccfbe1d"
      },
      "execution_count": null,
      "outputs": [
        {
          "output_type": "stream",
          "name": "stdout",
          "text": [
            "No friends are available this weekend.\n"
          ]
        }
      ]
    },
    {
      "cell_type": "code",
      "source": [
        "friends_time(0,3)"
      ],
      "metadata": {
        "colab": {
          "base_uri": "https://localhost:8080/"
        },
        "id": "-6Oa2TH9RuMv",
        "outputId": "84d8045a-62e6-486b-9741-eb9b27f423cd"
      },
      "execution_count": null,
      "outputs": [
        {
          "output_type": "stream",
          "name": "stdout",
          "text": [
            "You should spend 0.0 hours with each of your friends on the weekend.\n"
          ]
        }
      ]
    },
    {
      "cell_type": "code",
      "source": [
        "friends_time(7,0)"
      ],
      "metadata": {
        "colab": {
          "base_uri": "https://localhost:8080/"
        },
        "id": "Nmp5GiDqR-SO",
        "outputId": "0f90e8d3-ea64-4ebb-93c9-d47ee1d60267"
      },
      "execution_count": null,
      "outputs": [
        {
          "output_type": "stream",
          "name": "stdout",
          "text": [
            "No friends are available this weekend.\n"
          ]
        }
      ]
    }
  ]
}